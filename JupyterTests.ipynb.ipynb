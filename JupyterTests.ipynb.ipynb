{
 "cells": [
  {
   "cell_type": "code",
   "execution_count": 4,
   "id": "81913ebb",
   "metadata": {},
   "outputs": [],
   "source": [
    "import pyvisa as visa\n",
    "rm = visa.ResourceManager('@py')"
   ]
  },
  {
   "cell_type": "code",
   "execution_count": 25,
   "id": "d4da3c24",
   "metadata": {},
   "outputs": [
    {
     "name": "stdout",
     "output_type": "stream",
     "text": [
      "ASRL/dev/ttyUSB0::INSTR: HAMEG Instruments, HM8118,021804203,1.54 (terminated with \\r)\n"
     ]
    }
   ],
   "source": [
    "ports = rm.list_resources()\n",
    "\n",
    "for port in ports:\n",
    "    try:\n",
    "        device = rm.open_resource(port)\n",
    "    except:\n",
    "        continue\n",
    "    device.read_termination = '\\n'\n",
    "    device.write_termination = '\\n'\n",
    "    try:\n",
    "        idn = device.query('*IDN?')\n",
    "        print(f'{port}: {idn}')\n",
    "    except:\n",
    "        try:\n",
    "            device.read_termination = '\\r'\n",
    "            device.write_termination = '\\r'\n",
    "            device.write('*IDN?')\n",
    "            idn = device.read()\n",
    "            print(f'{port}: {idn} (terminated with \\\\r)')\n",
    "        except:\n",
    "            print(f'{port}: No response')\n",
    "            continue"
   ]
  },
  {
   "cell_type": "code",
   "execution_count": null,
   "id": "4dfe1ad4",
   "metadata": {},
   "outputs": [],
   "source": []
  }
 ],
 "metadata": {
  "kernelspec": {
   "display_name": "venv",
   "language": "python",
   "name": "python3"
  },
  "language_info": {
   "codemirror_mode": {
    "name": "ipython",
    "version": 3
   },
   "file_extension": ".py",
   "mimetype": "text/x-python",
   "name": "python",
   "nbconvert_exporter": "python",
   "pygments_lexer": "ipython3",
   "version": "3.12.3"
  }
 },
 "nbformat": 4,
 "nbformat_minor": 5
}
