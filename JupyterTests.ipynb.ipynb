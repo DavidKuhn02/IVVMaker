{
 "cells": [
  {
   "cell_type": "code",
   "execution_count": 26,
   "id": "81913ebb",
   "metadata": {},
   "outputs": [],
   "source": [
    "import pyvisa as visa\n",
    "import devices\n",
    "rm = visa.ResourceManager('@py')"
   ]
  },
  {
   "cell_type": "code",
   "execution_count": 36,
   "id": "d4da3c24",
   "metadata": {},
   "outputs": [
    {
     "name": "stdout",
     "output_type": "stream",
     "text": [
      "Could not configure port: (5, 'Input/output error')\n",
      "Could not configure port: (5, 'Input/output error')\n",
      "Could not configure port: (5, 'Input/output error')\n",
      "Could not configure port: (5, 'Input/output error')\n",
      "Could not configure port: (5, 'Input/output error')\n",
      "Could not configure port: (5, 'Input/output error')\n",
      "Could not configure port: (5, 'Input/output error')\n",
      "Could not configure port: (5, 'Input/output error')\n",
      "Could not configure port: (5, 'Input/output error')\n",
      "Could not configure port: (5, 'Input/output error')\n",
      "Could not configure port: (5, 'Input/output error')\n",
      "Could not configure port: (5, 'Input/output error')\n",
      "Could not configure port: (5, 'Input/output error')\n",
      "Could not configure port: (5, 'Input/output error')\n",
      "Could not configure port: (5, 'Input/output error')\n",
      "Could not configure port: (5, 'Input/output error')\n",
      "Could not configure port: (5, 'Input/output error')\n",
      "Could not configure port: (5, 'Input/output error')\n",
      "Could not configure port: (5, 'Input/output error')\n",
      "Could not configure port: (5, 'Input/output error')\n",
      "Could not configure port: (5, 'Input/output error')\n",
      "Could not configure port: (5, 'Input/output error')\n",
      "Could not configure port: (5, 'Input/output error')\n",
      "Could not configure port: (5, 'Input/output error')\n",
      "Could not configure port: (5, 'Input/output error')\n",
      "Could not configure port: (5, 'Input/output error')\n",
      "Could not configure port: (5, 'Input/output error')\n",
      "Could not configure port: (5, 'Input/output error')\n",
      "Could not configure port: (5, 'Input/output error')\n",
      "Could not configure port: (5, 'Input/output error')\n",
      "Could not configure port: (5, 'Input/output error')\n",
      "Could not configure port: (5, 'Input/output error')\n",
      "KEITHLEY INSTRUMENTS,MODEL 2450,04565869,1.7.12b\n",
      "\n",
      "[Errno 16] Resource busy\n"
     ]
    },
    {
     "ename": "NameError",
     "evalue": "name 'K2400' is not defined",
     "output_type": "error",
     "traceback": [
      "\u001b[0;31m---------------------------------------------------------------------------\u001b[0m",
      "\u001b[0;31mNameError\u001b[0m                                 Traceback (most recent call last)",
      "Cell \u001b[0;32mIn[36], line 15\u001b[0m\n\u001b[1;32m     12\u001b[0m         device\u001b[38;5;241m.\u001b[39mclose()\n\u001b[1;32m     13\u001b[0m         \u001b[38;5;28;01mcontinue\u001b[39;00m\n\u001b[0;32m---> 15\u001b[0m \u001b[43mK2400\u001b[49m\u001b[38;5;241m.\u001b[39mclose()\n",
      "\u001b[0;31mNameError\u001b[0m: name 'K2400' is not defined"
     ]
    }
   ],
   "source": [
    "ports = rm.list_resources()\n",
    "for port in ports:\n",
    "    try:\n",
    "        device = rm.open_resource(port)\n",
    "        id = device.query('*IDN?')\n",
    "        print(id)\n",
    "        if 'KEITHLEY' in id:\n",
    "            K2400 = devices.K2400(port, id, rm)\n",
    "            print('K2450 found')\n",
    "    except Exception as e:\n",
    "        print(e)\n",
    "        device.close()\n",
    "        continue\n",
    "\n",
    "K2400.close()"
   ]
  }
 ],
 "metadata": {
  "kernelspec": {
   "display_name": "venv",
   "language": "python",
   "name": "python3"
  },
  "language_info": {
   "codemirror_mode": {
    "name": "ipython",
    "version": 3
   },
   "file_extension": ".py",
   "mimetype": "text/x-python",
   "name": "python",
   "nbconvert_exporter": "python",
   "pygments_lexer": "ipython3",
   "version": "3.12.3"
  }
 },
 "nbformat": 4,
 "nbformat_minor": 5
}
